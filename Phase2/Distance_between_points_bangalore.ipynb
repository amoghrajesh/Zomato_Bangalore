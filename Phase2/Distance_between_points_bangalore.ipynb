{
 "cells": [
  {
   "cell_type": "code",
   "execution_count": 6,
   "metadata": {},
   "outputs": [
    {
     "name": "stdout",
     "output_type": "stream",
     "text": [
      "{'Kammanahalli', 'Jayanagar', 'Sarjapur Road', 'Lavelle Road', 'Brigade Road', 'Whitefield', 'Kalyan Nagar', 'Bellandur', 'Frazer Town', 'JP Nagar', 'Electronic City', 'Marathahalli', 'Bannerghatta Road', 'Koramangala 6th Block', 'New BEL Road', 'Old Airport Road', 'Brookefield', 'Residency Road', 'Church Street', 'HSR', 'Koramangala 7th Block', 'Rajajinagar', 'MG Road', 'Koramangala 5th Block', 'Malleshwaram', 'Koramangala 4th Block', 'Indiranagar', 'Banashankari', 'Basavanagudi', 'BTM'} 30\n"
     ]
    }
   ],
   "source": [
    "from pandas import DataFrame, read_csv\n",
    "import matplotlib.pyplot as plt\n",
    "import pandas as pd \n",
    "\n",
    "file = r'zomato.csv'\n",
    "df = pd.read_csv(file)\n",
    "print(set(df['listed_in(city)']),len(set(df['listed_in(city)'])))"
   ]
  },
  {
   "cell_type": "code",
   "execution_count": 12,
   "metadata": {},
   "outputs": [
    {
     "name": "stdout",
     "output_type": "stream",
     "text": [
      "30\n"
     ]
    }
   ],
   "source": [
    "#format -- 'name':[latitude,longitude]\n",
    "distances={'Kammanahalli':[12.8549,77.6003],'Jayanagar':[12.9275,77.5906],'Sarjapur Road':[12.9005,77.7103],'Lavelle Road':[12.9712,77.5978],'Brigade Road':[12.9743,77.6077],'Whitefield':[12.969,77.7509],'Kalyan Nagar':[13.028,77.64],'Bellandur':[12.9243,77.6722],'Frazer Town':[12.9972,77.6143],'JP Nagar':[12.9105,77.5857],'Electronic City':[12.8421,77.6631],'Marathahalli':[12.9512,77.6998],'Bannerghatta Road':[12.7959,77.6172],'Koramangala 6th Block':[12.9381,77.6228],'New BEL Road':[13.0368,77.566],'Old Airport Road':[12.9606,77.642],'Brookefield':[12.9647,77.7195],'Residency Road':[12.9719,77.607],'Church Street':[12.9751,77.6047],'HSR':[12.9103,77.645],'Koramangala 7th Block':[12.9362,77.6127],'Rajajinagar':[12.9906,77.5533],'MG Road':[12.9738,77.6139],'Koramangala 5th Block':[12.9349,77.6201],'Malleshwaram':[13.0081,77.5648],'Koramangala 4th Block':[12.9334,77.6264],'Indiranagar':[12.9719,77.6412],'Banashankari':[12.9365,77.5447],'Basavanagudi':[12.9422,77.5748],'BTM':[12.9128,77.6092]}\n",
    "# for i in distances:\n",
    "#     print(i)\n",
    "print(len(distances))"
   ]
  },
  {
   "cell_type": "code",
   "execution_count": 22,
   "metadata": {},
   "outputs": [
    {
     "name": "stdout",
     "output_type": "stream",
     "text": [
      "Enter source and destination in Blore\n",
      "Jayanagar Banashankari\n",
      "5.051595375719263\n"
     ]
    }
   ],
   "source": [
    "from math import radians, cos, sin, asin, sqrt\n",
    "\n",
    "# #use haversine distance which is the greatest circle distance between longitude and latitude points\n",
    "# def dist(s,d):\n",
    "#   # convert decimal degrees to radians \n",
    "\n",
    "#   lon1, lat1, lon2, lat2 = map(radians, [lon1, lat1, lon2, lat2])\n",
    " \n",
    "#   # haversine formula \n",
    "#   dlon = lon2 - lon1 \n",
    "#   dlat = lat2 - lat1 \n",
    "#   a = sin(dlat/2)**2 + cos(lat1) * cos(lat2) * sin(dlon/2)**2\n",
    "#   c = 2 * asin(sqrt(a)) \n",
    "#   r = 6371 # Radius of earth in kilometers. Use 3956 for miles\n",
    "#   return c * r\n",
    "\n",
    "def dist(s,d):\n",
    "    lat1,lon1=distances[s]\n",
    "    lat2,lon2=distances[d]\n",
    "    dlon=abs(lon2-lon1)\n",
    "    dlat=abs(lat2-lat1)\n",
    "#     a = sin(dlat/2)**2 + cos(lat1) * cos(lat2) * sin(dlon/2)**2\n",
    "#     c = 2 * asin(sqrt(a))\n",
    "#     r = 6371 #rounded up radius of earth\n",
    "#     return c*r\n",
    "    s=sqrt(pow(dlon,2)+pow(dlat,2))*108\n",
    "    return s\n",
    "    \n",
    "    \n",
    "\n",
    "\n",
    "\n",
    "\n",
    "print(\"Enter source and destination in Blore\")\n",
    "s,d=input().split()\n",
    "print(dist(s,d))"
   ]
  }
 ],
 "metadata": {
  "kernelspec": {
   "display_name": "Python 3",
   "language": "python",
   "name": "python3"
  },
  "language_info": {
   "codemirror_mode": {
    "name": "ipython",
    "version": 3
   },
   "file_extension": ".py",
   "mimetype": "text/x-python",
   "name": "python",
   "nbconvert_exporter": "python",
   "pygments_lexer": "ipython3",
   "version": "3.6.3"
  }
 },
 "nbformat": 4,
 "nbformat_minor": 2
}
